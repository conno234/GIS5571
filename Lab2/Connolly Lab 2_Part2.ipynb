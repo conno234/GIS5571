{
 "cells": [
  {
   "cell_type": "code",
   "execution_count": 70,
   "metadata": {},
   "outputs": [],
   "source": [
    "import requests\n",
    "import urllib3\n",
    "import os\n",
    "import zipfile\n",
    "urllib3.disable_warnings()"
   ]
  },
  {
   "cell_type": "code",
   "execution_count": 24,
   "metadata": {},
   "outputs": [
    {
     "name": "stdout",
     "output_type": "stream",
     "text": [
      "C:\\Users\\conno\\OneDrive\n"
     ]
    }
   ],
   "source": [
    "#First we set up our work environment\n",
    "workspace = r\"C:\\Users\\conno\\OneDrive\\Documents\\ArcGIS\\Projects\\GIS 5571 Lab2_3\"\n",
    "\n",
    "#Now we have to set our start point.\n",
    "x = -92.148796\n",
    "y = 44.127985\n",
    "\n",
    "\n",
    "#Then we define the spatial reference, in this case :WGS 1984 - EPSG:4326\n",
    "spatial_reference = arcpy.SpatialReference(4326)\n",
    "\n",
    "#Then we create the point geometry\n",
    "point = arcpy.Point(x, y)\n",
    "pointGeometry = arcpy.PointGeometry(point, spatial_reference)\n",
    "\n",
    "#Next we create a feature class\n",
    "featureClass = \"Start.shp\"\n",
    "arcpy.CreateFeatureclass_management(workspace, featureClass, \"POINT\", spatial_reference=spatial_reference)\n",
    "\n",
    "#Then we open an insert cursor and insert the point\n",
    "with arcpy.da.InsertCursor(featureClass, [\"SHAPE@\"]) as cursor:\n",
    "    cursor.insertRow([pointGeometry])\n"
   ]
  },
  {
   "cell_type": "code",
   "execution_count": 25,
   "metadata": {},
   "outputs": [
    {
     "name": "stdout",
     "output_type": "stream",
     "text": [
      "C:\\Users\\conno\\OneDrive\\Desktop\\Wabasha\n"
     ]
    }
   ],
   "source": [
    "#Now we have to do the same for the end point\n",
    "# Define the x and y coordinates\n",
    "x = -92.04482631030432\n",
    "y = 44.054409951002576\n",
    "\n",
    "\n",
    "spatial_reference = arcpy.SpatialReference(4326)\n",
    "point = arcpy.Point(x, y)\n",
    "pointGeometry = arcpy.PointGeometry(point, spatial_reference)\n",
    "\n",
    "\n",
    "featureClass = \"End.shp\"\n",
    "arcpy.CreateFeatureclass_management(workspace, featureClass, \"POINT\", spatial_reference=spatial_reference)\n",
    "\n",
    "with arcpy.da.InsertCursor(featureClass, [\"SHAPE@\"]) as cursor:\n",
    "    cursor.insertRow([pointGeometry])"
   ]
  },
  {
   "cell_type": "code",
   "execution_count": 58,
   "metadata": {},
   "outputs": [],
   "source": [
    "#Now we have to fetch the land class data we'll need for this from the Minnesota Geospatial Commons\n",
    "#We'll use an API call via the requests tool\n",
    "api_url=\"https://gisdata.mn.gov/api/3/action/package_show?id=biota-landcover-nlcd-mn-2019\"\n",
    "response = requests.get(api_url, verify=False)\n",
    "json=response.json()"
   ]
  },
  {
   "cell_type": "code",
   "execution_count": 63,
   "metadata": {},
   "outputs": [
    {
     "name": "stdout",
     "output_type": "stream",
     "text": [
      "Downloaded tif_biota_landcover_nlcd_mn_2019.zip\n"
     ]
    }
   ],
   "source": [
    "#Next we'll acquire the link to the shapefile folder we need\n",
    "resources = json['result']['resources']\n",
    "for resource in resources:\n",
    "    if resource['format'] == 'tif':\n",
    "        #Once we find the shapefile, we can save the associated URL.\n",
    "        zip_url = resource['url']\n",
    "        #Next, we can save the zip_url to our directory as a zip file.\n",
    "        zip_filename = os.path.basename(zip_url)\n",
    "\n",
    "        # We can finally download the zip file and produce some code that can will generate a text output indicating the name of the file we have downloaded.\n",
    "        response = requests.get(zip_url)\n",
    "        if response.status_code == 200:\n",
    "            with open(zip_filename, 'wb') as file:\n",
    "                file.write(response.content)\n",
    "            print(f\"Downloaded {zip_filename}\")\n",
    "        else:\n",
    "            print(f\"Failed to download {zip_filename}. Status code: {response.status_code}\")\n",
    "        break  "
   ]
  },
  {
   "cell_type": "code",
   "execution_count": 71,
   "metadata": {},
   "outputs": [
    {
     "name": "stdout",
     "output_type": "stream",
     "text": [
      "All files have been extracted to C:\\Users\\conno\\OneDrive\\Documents\\ArcGIS\\Projects\\GIS 5571 Lab2_3\n"
     ]
    }
   ],
   "source": [
    "#We define the path to the zipfile\n",
    "zip_file_path = r\"C:\\Users\\conno\\OneDrive\\Documents\\ArcGIS\\Projects\\GIS 5571 Lab2_3\\tif_biota_landcover_nlcd_mn_2019.zip\"\n",
    "\n",
    "#Then we define the folder where we want to extract the contents\n",
    "extracted_folder = r'C:\\Users\\conno\\OneDrive\\Documents\\ArcGIS\\Projects\\GIS 5571 Lab2_3'\n",
    "\n",
    "#Then we can open the ZIP file\n",
    "with zipfile.ZipFile(zip_file_path, 'r') as zip_ref:\n",
    "    zip_ref.extractall(extracted_folder)\n",
    "\n",
    "print(f'All files have been extracted to {extracted_folder}')"
   ]
  },
  {
   "cell_type": "code",
   "execution_count": 13,
   "metadata": {},
   "outputs": [
    {
     "name": "stdout",
     "output_type": "stream",
     "text": [
      "Downloaded 4342-28-59.laz\n",
      "Downloaded 4342-28-60.laz\n",
      "Downloaded 4342-28-61.laz\n",
      "Downloaded 4342-28-62.laz\n",
      "Downloaded 4342-28-63.laz\n",
      "Downloaded 4342-29-59.laz\n",
      "Downloaded 4342-29-60.laz\n",
      "Downloaded 4342-29-61.laz\n",
      "Downloaded 4342-29-62.laz\n",
      "Downloaded 4342-29-63.laz\n",
      "Downloaded 4342-30-59.laz\n",
      "Downloaded 4342-30-60.laz\n",
      "Downloaded 4342-30-61.laz\n",
      "Downloaded 4342-30-62.laz\n",
      "Downloaded 4342-30-63.laz\n",
      "Downloaded 4342-31-59.laz\n",
      "Downloaded 4342-31-60.laz\n",
      "Downloaded 4342-31-61.laz\n",
      "Downloaded 4342-31-62.laz\n",
      "Downloaded 4342-31-63.laz\n",
      "Downloaded 4342-32-59.laz\n",
      "Downloaded 4342-32-60.laz\n",
      "Downloaded 4342-32-61.laz\n",
      "Downloaded 4342-32-62.laz\n",
      "Downloaded 4342-32-63.laz\n",
      "All Laz files downloaded and converted.\n"
     ]
    }
   ],
   "source": [
    "import subprocess\n",
    "#Next we need to import several LAZ files from the MN DNR website for our search area\n",
    "#This ist defines all the LiDAR tiles we need data for\n",
    "laz_files = [\"4342-28-59\",\"4342-28-60\",\"4342-28-61\",\"4342-28-62\",\"4342-28-63\",\n",
    "             \"4342-29-59\",\"4342-29-60\",\"4342-29-61\",\"4342-29-62\",\"4342-29-63\",\n",
    "             \"4342-30-59\",\"4342-30-60\",\"4342-30-61\",\"4342-30-62\",\"4342-30-63\",\n",
    "             \"4342-31-59\",\"4342-31-60\",\"4342-31-61\",\"4342-31-62\",\"4342-31-63\",\n",
    "             \"4342-32-59\",\"4342-32-60\",\"4342-32-61\",\"4342-32-62\",\"4342-32-63\"]\n",
    "\n",
    "#We create a base url\n",
    "base_url = \"https://resources.gisdata.mn.gov/pub/data/elevation/lidar/q250k/q4342/laz/\"\n",
    "\n",
    "#Then we define our destination file\n",
    "destination_dir = r\"C:\\Users\\conno\\OneDrive\\Documents\\ArcGIS\\Projects\\GIS 5571 Lab2_3\"\n",
    "\n",
    "#Now, we can create a for loop that will loop through the list and download our LAZ files using a curl command\n",
    "for laz_file in laz_files:\n",
    "    url = base_url + laz_file + \".laz\"\n",
    "    output_file = destination_dir + \"\\\\\" + laz_file + \".laz\"\n",
    "    subprocess.run(['curl', '-o', output_file, url])\n",
    "    print(f\"Downloaded {laz_file}.laz\")\n",
    "    \n",
    "    #This for loop will also convert any incoming LAZ files into LAS files\n",
    "    arcpy.conversion.ConvertLas(\n",
    "        in_las=output_file,\n",
    "        target_folder=destination_dir,\n",
    "        file_version=\"SAME_AS_INPUT\",\n",
    "        point_format=\"\",\n",
    "        compression=\"NO_COMPRESSION\",\n",
    "        las_options=\"REARRANGE_POINTS\",\n",
    "        out_las_dataset=None,\n",
    "        define_coordinate_system=\"FILES_MISSING_PROJECTION\",\n",
    "        in_coordinate_system='GEOGCS[\"GCS_WGS_1984\",DATUM[\"D_WGS_1984\",SPHEROID[\"WGS_1984\",6378137.0,298.257223563]],PRIMEM[\"Greenwich\",0.0],UNIT[\"Degree\",0.0174532925199433]],VERTCS[\"NAVD88 - Geoid09 (Meters)\",VDATUM[\"unknown\"],PARAMETER[\"Vertical_Shift\",0.0],PARAMETER[\"Direction\",1.0],UNIT[\"Meter\",1.0]]'\n",
    "    )\n",
    "\n",
    "print(\"All Laz files downloaded and converted.\")"
   ]
  },
  {
   "cell_type": "code",
   "execution_count": 44,
   "metadata": {},
   "outputs": [
    {
     "data": {
      "text/html": [
       "<div class='gpresult'><h2>Messages</h2><div id='messages' data-messages='[\"Start Time: Friday, October 27, 2023 2:42:44 PM\",\"Succeeded at Friday, October 27, 2023 2:42:46 PM (Elapsed Time: 2.68 seconds)\"]' data-show='true'><div id = 'default' /></div></div>"
      ],
      "text/plain": [
       "<Result 'C:\\\\Users\\\\conno\\\\OneDrive\\\\Documents\\\\ArcGIS\\\\Projects\\\\GIS 5571 Lab2_3\\\\GIS 5571 Lab2_3.gdb\\\\c43423163_lasd2'>"
      ]
     },
     "execution_count": 44,
     "metadata": {},
     "output_type": "execute_result"
    }
   ],
   "source": [
    "#Next, we will create a LAS Dataset that will contain all of our LAS tiles\n",
    "arcpy.management.CreateLasDataset(\n",
    "    input=r\"'C:\\Users\\conno\\OneDrive\\Documents\\ArcGIS\\Projects\\GIS 5571 Lab2_3\\4342-28-59.las';'C:\\Users\\conno\\OneDrive\\Documents\\ArcGIS\\Projects\\GIS 5571 Lab2_3\\4342-28-60.las';'C:\\Users\\conno\\OneDrive\\Documents\\ArcGIS\\Projects\\GIS 5571 Lab2_3\\4342-28-61.las';'C:\\Users\\conno\\OneDrive\\Documents\\ArcGIS\\Projects\\GIS 5571 Lab2_3\\4342-28-62.las';'C:\\Users\\conno\\OneDrive\\Documents\\ArcGIS\\Projects\\GIS 5571 Lab2_3\\4342-28-63.las';'C:\\Users\\conno\\OneDrive\\Documents\\ArcGIS\\Projects\\GIS 5571 Lab2_3\\4342-29-59.las';'C:\\Users\\conno\\OneDrive\\Documents\\ArcGIS\\Projects\\GIS 5571 Lab2_3\\4342-29-60.las';'C:\\Users\\conno\\OneDrive\\Documents\\ArcGIS\\Projects\\GIS 5571 Lab2_3\\4342-30-62.las';'C:\\Users\\conno\\OneDrive\\Documents\\ArcGIS\\Projects\\GIS 5571 Lab2_3\\4342-30-61.las';'C:\\Users\\conno\\OneDrive\\Documents\\ArcGIS\\Projects\\GIS 5571 Lab2_3\\4342-30-60.las';'C:\\Users\\conno\\OneDrive\\Documents\\ArcGIS\\Projects\\GIS 5571 Lab2_3\\4342-30-59.las';'C:\\Users\\conno\\OneDrive\\Documents\\ArcGIS\\Projects\\GIS 5571 Lab2_3\\4342-29-63.las';'C:\\Users\\conno\\OneDrive\\Documents\\ArcGIS\\Projects\\GIS 5571 Lab2_3\\4342-29-62.las';'C:\\Users\\conno\\OneDrive\\Documents\\ArcGIS\\Projects\\GIS 5571 Lab2_3\\4342-29-61.las';'C:\\Users\\conno\\OneDrive\\Documents\\ArcGIS\\Projects\\GIS 5571 Lab2_3\\4342-32-59.las';'C:\\Users\\conno\\OneDrive\\Documents\\ArcGIS\\Projects\\GIS 5571 Lab2_3\\4342-31-63.las';'C:\\Users\\conno\\OneDrive\\Documents\\ArcGIS\\Projects\\GIS 5571 Lab2_3\\4342-31-62.las';'C:\\Users\\conno\\OneDrive\\Documents\\ArcGIS\\Projects\\GIS 5571 Lab2_3\\4342-31-61.las';'C:\\Users\\conno\\OneDrive\\Documents\\ArcGIS\\Projects\\GIS 5571 Lab2_3\\4342-31-60.las';'C:\\Users\\conno\\OneDrive\\Documents\\ArcGIS\\Projects\\GIS 5571 Lab2_3\\4342-31-59.las';'C:\\Users\\conno\\OneDrive\\Documents\\ArcGIS\\Projects\\GIS 5571 Lab2_3\\4342-30-63.las';'C:\\Users\\conno\\OneDrive\\Documents\\ArcGIS\\Projects\\GIS 5571 Lab2_3\\4342-32-63.las';'C:\\Users\\conno\\OneDrive\\Documents\\ArcGIS\\Projects\\GIS 5571 Lab2_3\\4342-32-62.las';'C:\\Users\\conno\\OneDrive\\Documents\\ArcGIS\\Projects\\GIS 5571 Lab2_3\\4342-32-61.las';'C:\\Users\\conno\\OneDrive\\Documents\\ArcGIS\\Projects\\GIS 5571 Lab2_3\\4342-32-60.las'\",\n",
    "    out_las_dataset=r\"C:\\Users\\conno\\OneDrive\\Documents\\ArcGIS\\Projects\\GIS 5571 Lab2_3\\LasDataset.lasd\",\n",
    "    folder_recursion=\"NO_RECURSION\",\n",
    "    in_surface_constraints=None,\n",
    "    spatial_reference='GEOGCS[\"GCS_WGS_1984\",DATUM[\"D_WGS_1984\",SPHEROID[\"WGS_1984\",6378137.0,298.257223563]],PRIMEM[\"Greenwich\",0.0],UNIT[\"Degree\",0.0174532925199433]],VERTCS[\"NAVD88 - Geoid09 (Meters)\",VDATUM[\"unknown\"],PARAMETER[\"Vertical_Shift\",0.0],PARAMETER[\"Direction\",1.0],UNIT[\"Meter\",1.0]]',\n",
    "    compute_stats=\"COMPUTE_STATS\",\n",
    "    relative_paths=\"ABSOLUTE_PATHS\",\n",
    "    create_las_prj=\"NO_FILES\",\n",
    "    extent=\"DEFAULT\",\n",
    "    boundary=None,\n",
    "    add_only_contained_files=\"INTERSECTED_FILES\"\n",
    ")"
   ]
  },
  {
   "cell_type": "code",
   "execution_count": 21,
   "metadata": {},
   "outputs": [
    {
     "data": {
      "text/html": [
       "<div class='gpresult'><h2>Messages</h2><div id='messages' data-messages='[\"Start Time: Saturday, October 28, 2023 6:31:26 PM\",\"Succeeded at Saturday, October 28, 2023 6:31:38 PM (Elapsed Time: 11.79 seconds)\"]' data-show='true'><div id = 'default' /></div></div>"
      ],
      "text/plain": [
       "<Result 'c:\\\\Users\\\\conno\\\\OneDrive\\\\documents\\\\ArcGIS\\\\Projects\\\\gis 5571 lab2_3\\\\gis 5571 lab2_3.gdb\\\\lasdat_lasda'>"
      ]
     },
     "execution_count": 21,
     "metadata": {},
     "output_type": "execute_result"
    }
   ],
   "source": [
    "#Next we will convert this LAS dataset into a DEM model\n",
    "arcpy.conversion.LasDatasetToRaster(\n",
    "    in_las_dataset=\"LasDataset.lasd\",\n",
    "    out_raster=r\"c:\\users\\conno\\onedrive\\documents\\arcgis\\projects\\gis 5571 lab2_3\\gis 5571 lab2_3.gdb\\lasdat_lasda\",\n",
    "    value_field=\"ELEVATION\",\n",
    "    interpolation_type=\"BINNING AVERAGE LINEAR\",\n",
    "    data_type=\"FLOAT\",\n",
    "    sampling_type=\"CELLSIZE\",\n",
    "    sampling_value=10,\n",
    "    z_factor=1\n",
    ")"
   ]
  },
  {
   "cell_type": "code",
   "execution_count": 22,
   "metadata": {},
   "outputs": [],
   "source": [
    "#To prepare the DEM model, we will use the Fill command\n",
    "Fill = arcpy.sa.Fill(\n",
    "    in_surface_raster=\"lasdat_lasda\",\n",
    "    z_limit=None\n",
    ")\n",
    "Fill.save(r\"C:\\Users\\conno\\OneDrive\\Documents\\ArcGIS\\Projects\\GIS 5571 Lab2_3\\GIS 5571 Lab2_3.gdb\\Fill\")"
   ]
  },
  {
   "cell_type": "code",
   "execution_count": 23,
   "metadata": {},
   "outputs": [],
   "source": [
    "#Then we will then run the output of the fill tool through the Slope command\n",
    "Slope = arcpy.sa.Slope(\n",
    "    in_raster=Fill,\n",
    "    output_measurement=\"DEGREE\",\n",
    "    z_factor=1,\n",
    "    method=\"PLANAR\",\n",
    "    z_unit=\"METER\",\n",
    "    analysis_target_device=\"GPU_THEN_CPU\"\n",
    ")\n",
    "Slope.save(r\"C:\\Users\\conno\\OneDrive\\Documents\\ArcGIS\\Projects\\GIS 5571 Lab2_3\\GIS 5571 Lab2_3.gdb\\Slope\")"
   ]
  },
  {
   "cell_type": "code",
   "execution_count": 24,
   "metadata": {},
   "outputs": [],
   "source": [
    "#Now, we can group the slope layer into classes\n",
    "Slope_Class = arcpy.sa.Reclassify(\n",
    "    in_raster=Slope,\n",
    "    reclass_field=\"VALUE\",\n",
    "    remap=\"0 1.720000 1;1.720000 3.430000 2;3.430000 5.710000 3;5.710000 8.530000 4;8.530000 11.300000 5;11.300000 14.040000 6;14.040000 16.700000 7;16.700000 21.800000 8;21.800000 30.960000 9;30.960000 45 10;45 90 11\",\n",
    "    missing_values=\"DATA\"\n",
    ")\n",
    "Slope_Class.save(r\"C:\\Users\\conno\\OneDrive\\Documents\\ArcGIS\\Projects\\GIS 5571 Lab2_3\\GIS 5571 Lab2_3.gdb\\Slope_Class\")"
   ]
  },
  {
   "cell_type": "code",
   "execution_count": null,
   "metadata": {},
   "outputs": [],
   "source": [
    "#Now we can create a weighted overlay\n",
    "#For scenario 1, we'll be using 50/50 weighting between land class and slope, fields included\n",
    "weighted_overlay = arcpy.sa.WeightedOverlay(\n",
    "    in_weighted_overlay_table=r\"('C:\\Users\\conno\\OneDrive\\Documents\\ArcGIS\\Projects\\GIS 5571 Lab2_3\\GIS 5571 Lab2_3.gdb\\Slope_Class' 50 'Value' (1 10; 2 9; 3 8; 4 7; 5 6; 6 5; 7 4; 8 3; 9 2; 10 1; 11 1; NODATA NODATA); 'C:\\Users\\conno\\OneDrive\\Documents\\ArcGIS\\Projects\\GIS 5571 Lab2_3\\NLCD_2019_Land_Cover.tif' 50 'NLCD_Land' ('Unclassified' NODATA; 'Open Water' 2; 'Developed, Open Space' 10; 'Developed, Low Intensity' 10; 'Developed, Medium Intensity' 10; 'Developed, High Intensity' 10; 'Barren Land' 10; 'Deciduous Forest' 10; 'Evergreen Forest' 10; 'Mixed Forest' 10; 'Shrub/Scrub' 10; 'Herbaceous' 10; 'Hay/Pasture' 1; 'Cultivated Crops' 1; 'Woody Wetlands' 1; 'Emergent Herbaceous Wetlands' 1; NODATA NODATA));1 10 1\"\n",
    ")\n",
    "out_raster.save(r\"C:\\Users\\conno\\OneDrive\\Documents\\ArcGIS\\Projects\\GIS 5571 Lab2_3\\GIS 5571 Lab2_3.gdb\\weighted_overlay\")"
   ]
  },
  {
   "cell_type": "code",
   "execution_count": 12,
   "metadata": {},
   "outputs": [],
   "source": [
    "#Now, we create a cost distance using the start point and the weighted overlay\n",
    "cost_distance = arcpy.sa.CostDistance(\n",
    "    in_source_data=\"Start\",\n",
    "    in_cost_raster=\"weighted_overlay\",\n",
    "    maximum_distance=None,\n",
    "    out_backlink_raster=None,\n",
    "    source_cost_multiplier=None,\n",
    "    source_start_cost=None,\n",
    "    source_resistance_rate=None,\n",
    "    source_capacity=None,\n",
    "    source_direction=\"\"\n",
    ")\n",
    "cost_distance.save(r\"C:\\Users\\conno\\OneDrive\\Documents\\ArcGIS\\Projects\\GIS 5571 Lab2_3\\GIS 5571 Lab2_3.gdb\\cost_distance\")"
   ]
  },
  {
   "cell_type": "code",
   "execution_count": 13,
   "metadata": {},
   "outputs": [],
   "source": [
    "#Then we create a cost backlink using the start point and the weighted overlay again\n",
    "cost_backlink = arcpy.sa.CostBackLink(\n",
    "    in_source_data=\"Start\",\n",
    "    in_cost_raster=\"weighted_overlay\",\n",
    "    maximum_distance=None,\n",
    "    out_distance_raster=None,\n",
    "    source_cost_multiplier=None,\n",
    "    source_start_cost=None,\n",
    "    source_resistance_rate=None,\n",
    "    source_capacity=None,\n",
    "    source_direction=\"\"\n",
    ")\n",
    "cost_backlink.save(r\"C:\\Users\\conno\\OneDrive\\Documents\\ArcGIS\\Projects\\GIS 5571 Lab2_3\\GIS 5571 Lab2_3.gdb\\cost_backlink\")"
   ]
  },
  {
   "cell_type": "code",
   "execution_count": 14,
   "metadata": {},
   "outputs": [],
   "source": [
    "#Finally, we use our end point to create a cost path\n",
    "cost_path = arcpy.sa.CostPath(\n",
    "    in_destination_data=\"End\",\n",
    "    in_cost_distance_raster=\"cost_distance\",\n",
    "    in_cost_backlink_raster=\"cost_backlink\",\n",
    "    path_type=\"EACH_CELL\",\n",
    "    destination_field=\"Id\",\n",
    "    force_flow_direction_convention=\"INPUT_RANGE\"\n",
    ")\n",
    "cost_path.save(r\"C:\\Users\\conno\\OneDrive\\Documents\\ArcGIS\\Projects\\GIS 5571 Lab2_3\\GIS 5571 Lab2_3.gdb\\cost_path\")"
   ]
  },
  {
   "cell_type": "code",
   "execution_count": null,
   "metadata": {},
   "outputs": [],
   "source": [
    "#We will use the run the same code for scenarios 2 and 3\n",
    "#Scenario 2 consists of 50/50 weighting between land class and slope, no fields\n",
    "weighted_overlay_2 = arcpy.sa.WeightedOverlay(\n",
    "    in_weighted_overlay_table=r\"('C:\\Users\\conno\\OneDrive\\Documents\\ArcGIS\\Projects\\GIS 5571 Lab2_3\\GIS 5571 Lab2_3.gdb\\Slope_Class' 50 'Value' (1 10; 2 9; 3 8; 4 7; 5 6; 6 5; 7 4; 8 3; 9 2; 10 1; 11 1; NODATA NODATA); 'C:\\Users\\conno\\OneDrive\\Documents\\ArcGIS\\Projects\\GIS 5571 Lab2_3\\NLCD_2019_Land_Cover.tif' 50 'NLCD_Land' ('Unclassified' NODATA; 'Open Water' 2; 'Developed, Open Space' 10; 'Developed, Low Intensity' 10; 'Developed, Medium Intensity' 10; 'Developed, High Intensity' 10; 'Barren Land' 10; 'Deciduous Forest' 10; 'Evergreen Forest' 10; 'Mixed Forest' 10; 'Shrub/Scrub' 10; 'Herbaceous' 10; 'Hay/Pasture' NODATA; 'Cultivated Crops' NODATA; 'Woody Wetlands' 1; 'Emergent Herbaceous Wetlands' 1; NODATA NODATA));1 10 1\"\n",
    ")\n",
    "weighted_overlay_2.save(r\"C:\\Users\\conno\\OneDrive\\Documents\\ArcGIS\\Projects\\GIS 5571 Lab2_3\\GIS 5571 Lab2_3.gdb\\weighted_overlay\")\n",
    "\n",
    "cost_distance_2 = arcpy.sa.CostDistance(\n",
    "    in_source_data=\"Start\",\n",
    "    in_cost_raster=\"weighted_overlay_2\",\n",
    "    maximum_distance=None,\n",
    "    out_backlink_raster=None,\n",
    "    source_cost_multiplier=None,\n",
    "    source_start_cost=None,\n",
    "    source_resistance_rate=None,\n",
    "    source_capacity=None,\n",
    "    source_direction=\"\"\n",
    ")\n",
    "cost_distance_2.save(r\"C:\\Users\\conno\\OneDrive\\Documents\\ArcGIS\\Projects\\GIS 5571 Lab2_3\\GIS 5571 Lab2_3.gdb\\cost_distance\")\n",
    "\n",
    "cost_backlink_2 = arcpy.sa.CostBackLink(\n",
    "    in_source_data=\"Start\",\n",
    "    in_cost_raster=\"weighted_overlay_2\",\n",
    "    maximum_distance=None,\n",
    "    out_distance_raster=None,\n",
    "    source_cost_multiplier=None,\n",
    "    source_start_cost=None,\n",
    "    source_resistance_rate=None,\n",
    "    source_capacity=None,\n",
    "    source_direction=\"\"\n",
    ")\n",
    "cost_backlink_2.save(r\"C:\\Users\\conno\\OneDrive\\Documents\\ArcGIS\\Projects\\GIS 5571 Lab2_3\\GIS 5571 Lab2_3.gdb\\cost_backlink\")\n",
    "\n",
    "cost_path_2 = arcpy.sa.CostPath(\n",
    "    in_destination_data=\"End\",\n",
    "    in_cost_distance_raster=\"cost_distance_2\",\n",
    "    in_cost_backlink_raster=\"cost_backlin_2\",\n",
    "    path_type=\"EACH_CELL\",\n",
    "    destination_field=\"Id\",\n",
    "    force_flow_direction_convention=\"INPUT_RANGE\"\n",
    ")\n",
    "cost_path_2.save(r\"C:\\Users\\conno\\OneDrive\\Documents\\ArcGIS\\Projects\\GIS 5571 Lab2_3\\GIS 5571 Lab2_3.gdb\\cost_path\")"
   ]
  },
  {
   "cell_type": "code",
   "execution_count": null,
   "metadata": {},
   "outputs": [],
   "source": [
    "#Scenario 3 consists of a weighted overlay for 70% land classes and 30% slope, no fields\n",
    "weighted_overlay_3 = arcpy.sa.WeightedOverlay(\n",
    "    in_weighted_overlay_table=r\"('C:\\Users\\conno\\OneDrive\\Documents\\ArcGIS\\Projects\\GIS 5571 Lab2_3\\GIS 5571 Lab2_3.gdb\\Slope_Class' 30 'Value' (1 10; 2 9; 3 8; 4 7; 5 6; 6 5; 7 4; 8 3; 9 2; 10 1; 11 1; NODATA NODATA); 'C:\\Users\\conno\\OneDrive\\Documents\\ArcGIS\\Projects\\GIS 5571 Lab2_3\\NLCD_2019_Land_Cover.tif' 70 'NLCD_Land' ('Unclassified' NODATA; 'Open Water' 2; 'Developed, Open Space' 10; 'Developed, Low Intensity' 10; 'Developed, Medium Intensity' NODATA; 'Developed, High Intensity' 10; 'Barren Land' 10; 'Deciduous Forest' 10; 'Evergreen Forest' 10; 'Mixed Forest' 10; 'Shrub/Scrub' 10; 'Herbaceous' 10; 'Hay/Pasture' NODATA; 'Cultivated Crops' NODATA; 'Woody Wetlands' 1; 'Emergent Herbaceous Wetlands' 1; NODATA NODATA));1 10 1\"\n",
    ")\n",
    "weighted_overlay_3.save(r\"C:\\Users\\conno\\OneDrive\\Documents\\ArcGIS\\Projects\\GIS 5571 Lab2_3\\GIS 5571 Lab2_3.gdb\\weighted_overlay\")\n",
    "\n",
    "cost_distance_3 = arcpy.sa.CostDistance(\n",
    "    in_source_data=\"Start\",\n",
    "    in_cost_raster=\"weighted_overlay_3\",\n",
    "    maximum_distance=None,\n",
    "    out_backlink_raster=None,\n",
    "    source_cost_multiplier=None,\n",
    "    source_start_cost=None,\n",
    "    source_resistance_rate=None,\n",
    "    source_capacity=None,\n",
    "    source_direction=\"\"\n",
    ")\n",
    "cost_distance_3.save(r\"C:\\Users\\conno\\OneDrive\\Documents\\ArcGIS\\Projects\\GIS 5571 Lab2_3\\GIS 5571 Lab2_3.gdb\\cost_distance\")\n",
    "\n",
    "cost_backlink_3 = arcpy.sa.CostBackLink(\n",
    "    in_source_data=\"Start\",\n",
    "    in_cost_raster=\"weighted_overlay_3\",\n",
    "    maximum_distance=None,\n",
    "    out_distance_raster=None,\n",
    "    source_cost_multiplier=None,\n",
    "    source_start_cost=None,\n",
    "    source_resistance_rate=None,\n",
    "    source_capacity=None,\n",
    "    source_direction=\"\"\n",
    ")\n",
    "cost_backlink_3.save(r\"C:\\Users\\conno\\OneDrive\\Documents\\ArcGIS\\Projects\\GIS 5571 Lab2_3\\GIS 5571 Lab2_3.gdb\\cost_backlink\")\n",
    "\n",
    "cost_path_3 = arcpy.sa.CostPath(\n",
    "    in_destination_data=\"End\",\n",
    "    in_cost_distance_raster=\"cost_distance_3\",\n",
    "    in_cost_backlink_raster=\"cost_backlin_3\",\n",
    "    path_type=\"EACH_CELL\",\n",
    "    destination_field=\"Id\",\n",
    "    force_flow_direction_convention=\"INPUT_RANGE\"\n",
    ")\n",
    "cost_path_3.save(r\"C:\\Users\\conno\\OneDrive\\Documents\\ArcGIS\\Projects\\GIS 5571 Lab2_3\\GIS 5571 Lab2_3.gdb\\cost_path\")"
   ]
  }
 ],
 "metadata": {
  "kernelspec": {
   "display_name": "Python 3 (ipykernel)",
   "language": "python",
   "name": "python3"
  },
  "language_info": {
   "codemirror_mode": {
    "name": "ipython",
    "version": 3
   },
   "file_extension": ".py",
   "mimetype": "text/x-python",
   "name": "python",
   "nbconvert_exporter": "python",
   "pygments_lexer": "ipython3",
   "version": "3.9.7"
  }
 },
 "nbformat": 4,
 "nbformat_minor": 4
}
