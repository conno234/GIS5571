{
 "cells": [
  {
   "cell_type": "code",
   "execution_count": 14,
   "metadata": {},
   "outputs": [],
   "source": [
    "import zipfile"
   ]
  },
  {
   "cell_type": "code",
   "execution_count": 10,
   "metadata": {
    "scrolled": true
   },
   "outputs": [
    {
     "name": "stderr",
     "output_type": "stream",
     "text": [
      "  % Total    % Received % Xferd  Average Speed   Time    Time     Time  Current\n",
      "                                 Dload  Upload   Total   Spent    Left  Speed\n",
      "﻿\n",
      "  0     0    0     0    0     0      0      0 --:--:-- --:--:-- --:--:--     0\n",
      "  0 21.1M    0 32768    0     0  72029      0  0:05:07 --:--:--  0:05:07 72495\n",
      " 59 21.1M   59 12.6M    0     0  9151k      0  0:00:02  0:00:01  0:00:01 9168k\n",
      "100 21.1M  100 21.1M    0     0  11.7M      0  0:00:01  0:00:01 --:--:-- 11.7M\n"
     ]
    }
   ],
   "source": [
    "#First we perform a curl request for the curl data\n",
    "!curl -o prismdata.zip https://ftp.prism.oregonstate.edu/normals_4km/ppt/PRISM_ppt_30yr_normal_4kmM4_all_bil.zip"
   ]
  },
  {
   "cell_type": "code",
   "execution_count": 17,
   "metadata": {},
   "outputs": [
    {
     "name": "stdout",
     "output_type": "stream",
     "text": [
      "All files have been extracted to C:\\Users\\conno\\OneDrive\\Documents\\ArcGIS\\Projects\\GIS 5571 Lab2_2\\PRISM\n"
     ]
    }
   ],
   "source": [
    "#Next we must unzip the files and save them to a file in our work environment\n",
    "zip_file_path = 'prismdata.zip'\n",
    "extracted_folder = r\"C:\\Users\\conno\\OneDrive\\Documents\\ArcGIS\\Projects\\GIS 5571 Lab2_2\\PRISM\"\n",
    "\n",
    "with zipfile.ZipFile(zip_file_path, 'r') as zip_ref:\n",
    "    zip_ref.extractall(extracted_folder)\n",
    "\n",
    "print(f'All files have been extracted to {extracted_folder}')"
   ]
  },
  {
   "cell_type": "code",
   "execution_count": 16,
   "metadata": {},
   "outputs": [
    {
     "data": {
      "text/html": [
       "<div class='gpresult'><h2>Messages</h2><div id='messages' data-messages='[\"Start Time: Sunday, October 29, 2023 7:54:41 PM\",\"Succeeded at Sunday, October 29, 2023 7:54:54 PM (Elapsed Time: 12.95 seconds)\"]' data-show='true'><div id = 'default' /></div></div>"
      ],
      "text/plain": [
       "<Result 'C:\\\\Users\\\\conno\\\\OneDrive\\\\Documents\\\\ArcGIS\\\\Projects\\\\GIS 5571 Lab2_2\\\\GIS 5571 Lab2_2.gdb\\\\Mosaic'>"
      ]
     },
     "execution_count": 16,
     "metadata": {},
     "output_type": "execute_result"
    }
   ],
   "source": [
    "#Now we create a Mosaic dataset\n",
    "arcpy.management.CreateMosaicDataset(\n",
    "    in_workspace=r\"C:\\Users\\conno\\OneDrive\\Documents\\ArcGIS\\Projects\\GIS 5571 Lab2_2\\GIS 5571 Lab2_2.gdb\",\n",
    "    in_mosaicdataset_name=\"Mosaic\",\n",
    "    coordinate_system='GEOGCS[\"GCS_North_American_1983\",DATUM[\"D_North_American_1983\",SPHEROID[\"GRS_1980\",6378137.0,298.257222101]],PRIMEM[\"Greenwich\",0.0],UNIT[\"Degree\",0.0174532925199433]]',\n",
    "    num_bands=None,\n",
    "    pixel_type=\"\",\n",
    "    product_definition=\"NONE\",\n",
    "    product_band_definitions=None\n",
    ")"
   ]
  },
  {
   "cell_type": "code",
   "execution_count": 18,
   "metadata": {},
   "outputs": [
    {
     "data": {
      "text/html": [
       "<div class='gpresult'><h2>Messages</h2><div id='messages' data-messages='[\"Start Time: Sunday, October 29, 2023 8:01:10 PM\",\"2023-10-29T20:01:11.912: Loading raster datasets\",\"2023-10-29T20:01:11.955: Completed crawling 13 data source items. Added 13 mosaic dataset items.\",\"2023-10-29T20:01:11.957: Synchronizing crawled data source items\",\"2023-10-29T20:01:11.968: Synchronizing items associated with raster type instance &#39;Raster Dataset&#39; [ID: 1].\",\"2023-10-29T20:01:12.155: Completed synchronization: 13 items selected, 13 items synchronized.\",\"2023-10-29T20:01:12.297: Computing cell size levels\",\"2023-10-29T20:01:12.297: Computing unique cell size values\",\"2023-10-29T20:01:12.352: Computing maximum cell size values\",\"2023-10-29T20:01:12.355: Computing minimum cell size values\",\"2023-10-29T20:01:12.358: Updating visibility values of selected items\",\"2023-10-29T20:01:12.382: Computing maximum cell size for mosaic dataset\",\"2023-10-29T20:01:12.395: Completed computing cell size ranges.\",\"2023-10-29T20:01:12.458: Completed building boundary.\",\"Succeeded at Sunday, October 29, 2023 8:01:14 PM (Elapsed Time: 3.98 seconds)\"]' data-show='true'><div id = 'default' /></div></div>"
      ],
      "text/plain": [
       "<Result 'Mosaic'>"
      ]
     },
     "execution_count": 18,
     "metadata": {},
     "output_type": "execute_result"
    }
   ],
   "source": [
    "#Then, we add the PRISM data to the mosaic\n",
    "arcpy.management.AddRastersToMosaicDataset(\n",
    "    in_mosaic_dataset=\"Mosaic\",\n",
    "    raster_type=\"Raster Dataset\",\n",
    "    input_path=r\"'C:\\Users\\conno\\OneDrive\\Documents\\ArcGIS\\Projects\\GIS 5571 Lab2_2\\PRISM'\",\n",
    "    update_cellsize_ranges=\"UPDATE_CELL_SIZES\",\n",
    "    update_boundary=\"UPDATE_BOUNDARY\",\n",
    "    update_overviews=\"NO_OVERVIEWS\",\n",
    "    maximum_pyramid_levels=None,\n",
    "    maximum_cell_size=0,\n",
    "    minimum_dimension=1500,\n",
    "    spatial_reference=None,\n",
    "    filter=\"\",\n",
    "    sub_folder=\"SUBFOLDERS\",\n",
    "    duplicate_items_action=\"ALLOW_DUPLICATES\",\n",
    "    build_pyramids=\"NO_PYRAMIDS\",\n",
    "    calculate_statistics=\"NO_STATISTICS\",\n",
    "    build_thumbnails=\"NO_THUMBNAILS\",\n",
    "    operation_description=\"\",\n",
    "    force_spatial_reference=\"NO_FORCE_SPATIAL_REFERENCE\",\n",
    "    estimate_statistics=\"NO_STATISTICS\",\n",
    "    aux_inputs=None,\n",
    "    enable_pixel_cache=\"NO_PIXEL_CACHE\",\n",
    "    cache_location=r\"C:\\Users\\conno\\AppData\\Local\\ESRI\\rasterproxies\\Mosaic\"\n",
    ")"
   ]
  },
  {
   "cell_type": "code",
   "execution_count": 19,
   "metadata": {},
   "outputs": [
    {
     "data": {
      "text/html": [
       "<div class='gpresult'><h2>Messages</h2><div id='messages' data-messages='[\"Start Time: Sunday, October 29, 2023 8:02:12 PM\",\"Adding Variable to AMD_Mosaic_CAT...\",\"Succeeded at Sunday, October 29, 2023 8:02:13 PM (Elapsed Time: 0.81 seconds)\"]' data-show='true'><div id = 'default' /></div></div>"
      ],
      "text/plain": [
       "<Result 'Mosaic\\\\Footprint'>"
      ]
     },
     "execution_count": 19,
     "metadata": {},
     "output_type": "execute_result"
    }
   ],
   "source": [
    "#Next, we calculate a couple fields\n",
    "arcpy.management.CalculateField(\n",
    "    in_table=r\"Mosaic\\Footprint\",\n",
    "    field=\"Variable\",\n",
    "    expression='\"Mosaic\"',\n",
    "    expression_type=\"PYTHON3\",\n",
    "    code_block=\"\",\n",
    "    field_type=\"TEXT\",\n",
    "    enforce_domains=\"NO_ENFORCE_DOMAINS\"\n",
    ")\n",
    "arcpy.management.CalculateField(\n",
    "    in_table=r\"Mosaic\\Footprint\",\n",
    "    field=\"Timestamp\",\n",
    "    expression=\"DateAdd(Date(1991,0,1), $feature.OBJECTID-1, 'year')\",\n",
    "    expression_type=\"ARCADE\",\n",
    "    code_block=\"\",\n",
    "    field_type=\"DATE\",\n",
    "    enforce_domains=\"NO_ENFORCE_DOMAINS\"\n",
    ")"
   ]
  },
  {
   "cell_type": "code",
   "execution_count": 21,
   "metadata": {},
   "outputs": [
    {
     "data": {
      "text/html": [
       "<div class='gpresult'><h2>Messages</h2><div id='messages' data-messages='[\"Start Time: Sunday, October 29, 2023 8:02:45 PM\",\"Succeeded at Sunday, October 29, 2023 8:02:55 PM (Elapsed Time: 10.41 seconds)\"]' data-show='true'><div id = 'default' /></div></div>"
      ],
      "text/plain": [
       "<Result 'Mosaic'>"
      ]
     },
     "execution_count": 21,
     "metadata": {},
     "output_type": "execute_result"
    }
   ],
   "source": [
    "#Now after that prep work, we can use the adjusted mosaic to create multidimensional info\n",
    "arcpy.md.BuildMultidimensionalInfo(\n",
    "    in_mosaic_dataset=\"Mosaic\",\n",
    "    variable_field=\"Variable\",\n",
    "    dimension_fields=\"Timestamp # #\",\n",
    "    variable_desc_units=None,\n",
    "    delete_multidimensional_info=\"NO_DELETE_MULTIDIMENSIONAL_INFO\"\n",
    ")"
   ]
  },
  {
   "cell_type": "code",
   "execution_count": 22,
   "metadata": {},
   "outputs": [
    {
     "data": {
      "text/html": [
       "<div class='gpresult'><h2>Messages</h2><div id='messages' data-messages='[\"Start Time: Sunday, October 29, 2023 8:03:09 PM\",\"Succeeded at Sunday, October 29, 2023 8:03:18 PM (Elapsed Time: 8.52 seconds)\"]' data-show='true'><div id = 'default' /></div></div>"
      ],
      "text/plain": [
       "<Result 'Mosaic_MultidimLayer'>"
      ]
     },
     "execution_count": 22,
     "metadata": {},
     "output_type": "execute_result"
    }
   ],
   "source": [
    "#That multidimensional data can then be used to construct a multidimensional raster\n",
    "arcpy.md.MakeMultidimensionalRasterLayer(\n",
    "    in_multidimensional_raster=\"Mosaic\",\n",
    "    out_multidimensional_raster_layer=\"Mosaic_MultidimLayer\",\n",
    "    variables=\"'Mosaic'\",\n",
    "    dimension_def=\"ALL\",\n",
    "    dimension_ranges=None,\n",
    "    dimension_values=None,\n",
    "    dimension=\"\",\n",
    "    start_of_first_iteration=\"\",\n",
    "    end_of_first_iteration=\"\",\n",
    "    iteration_step=None,\n",
    "    iteration_unit=\"\",\n",
    "    template='-125.020833333333 24.0624999997935 -66.4791666661985 49.9375000000005 GEOGCS[\"GCS_North_American_1983\",DATUM[\"D_North_American_1983\",SPHEROID[\"GRS_1980\",6378137.0,298.257222101]],PRIMEM[\"Greenwich\",0.0],UNIT[\"Degree\",0.0174532925199433]]',\n",
    "    dimensionless=\"DIMENSIONS\",\n",
    "    spatial_reference=None\n",
    ")"
   ]
  },
  {
   "cell_type": "code",
   "execution_count": 7,
   "metadata": {},
   "outputs": [
    {
     "data": {
      "text/html": [
       "<div class='gpresult'><h2>Messages</h2><div id='messages' data-messages='[\"Start Time: Thursday, October 26, 2023 5:53:50 PM\",\"WARNING 110290: This tool requires projected data to accurately measure distances.  The Input Multidimensional Raster Layer will be projected to the WGS 1984 World Equidistant Cylindrical projection (WKID 4087).\",\"WARNING 110013: The default Time Step Interval is 1 year.\",\"WARNING 110067: Your spatial reference is not compatible with CF Conventions.  You may experience difficulties using the resulting space-time cube with other NetCDF tools and software.\",[{\"element\":\"table\",\"data\":[[{\"data\":\"Input feature time extent\",\"prop\":{\"rowspan\":2}},\"1991-01-01 06:00:00\"],[{\"data\":\"to 2003-01-01 06:00:00\",\"prop\":{\"text-align\":\"right\"}}],[\"\",\"\"],[\"Number of time steps\",\"13\"],[\"Time step interval\",\"1 year\"],[\"Time step alignment\",\"End\"],[\"\",\"\"],[\"First time step temporal bias\",\"100.00%\"],[{\"data\":\"First time step interval\",\"prop\":{\"rowspan\":4}},\"after\"],[{\"data\":\"1990-01-01 06:00:00\",\"prop\":{\"text-align\":\"right\"}}],[{\"data\":\"to on or before\",\"prop\":{\"text-align\":\"right\"}}],[{\"data\":\"1991-01-01 06:00:00\",\"prop\":{\"text-align\":\"right\"}}],[\"\",\"\"],[\"Last time step temporal bias\",\"0.00%\"],[{\"data\":\"Last time step interval\",\"prop\":{\"rowspan\":4}},\"after\"],[{\"data\":\"2002-01-01 06:00:00\",\"prop\":{\"text-align\":\"right\"}}],[{\"data\":\"to on or before\",\"prop\":{\"text-align\":\"right\"}}],[{\"data\":\"2003-01-01 06:00:00\",\"prop\":{\"text-align\":\"right\"}}],[\"\",\"\"],[\"Coordinate System\",\"WGS 1984 World Equidistant Cylindrical\"],[\"Cube extent across space\",\"(coordinates in meters)\"],[\"Min X\",\"-13894065.6611\"],[\"Min Y\",\"2708362.4448\"],[\"Max X\",\"-7451448.3421\"],[\"Max Y\",\"5478284.6852\"]],\"elementProps\":{\"striped\":\"true\",\"noHeader\":true,\"title\":\"Space Time Cube Characteristics\",\"0\":{\"align\":\"left\",\"pad\":\"0px\",\"wrap\":true},\"1\":{\"align\":\"right\",\"pad\":\"0px\",\"wrap\":true}}}],[{\"element\":\"table\",\"data\":[[\"Locations\",\"481631\"],[\"Total observations\",\"6261203\"]],\"elementProps\":{\"striped\":\"true\",\"noHeader\":true,\"0\":{\"align\":\"left\",\"pad\":\"0px\",\"wrap\":true},\"1\":{\"align\":\"right\",\"pad\":\"0px\",\"wrap\":true}}}],[{\"element\":\"table\",\"data\":[[\"Trend direction\",\"Not Significant\"],[\"Trend statistic\",\"0.6711\"],[\"Trend p-value\",\"0.5022\"]],\"elementProps\":{\"striped\":\"true\",\"noHeader\":true,\"title\":\"Overall Data Trend - MOSAIC_NONE_ZEROS\",\"0\":{\"align\":\"left\",\"pad\":\"0px\",\"wrap\":true},\"1\":{\"align\":\"right\",\"pad\":\"0px\",\"wrap\":true}}}],\"Succeeded at Thursday, October 26, 2023 5:59:00 PM (Elapsed Time: 5 minutes 10 seconds)\"]' data-show='true'><div id = 'default' /></div></div>"
      ],
      "text/plain": [
       "<Result 'C:\\\\Users\\\\conno\\\\OneDrive\\\\Documents\\\\ArcGIS\\\\Projects\\\\GIS 5571 Lab2_2\\\\PRISM_SPT.nc'>"
      ]
     },
     "execution_count": 7,
     "metadata": {},
     "output_type": "execute_result"
    }
   ],
   "source": [
    "#And finally, we use the multidimensional raster to construct a space time cube\n",
    "arcpy.stpm.CreateSpaceTimeCubeMDRasterLayer(\n",
    "    in_md_raster=\"Mosaic_MultidimLayer\",\n",
    "    output_cube=r\"C:\\Users\\conno\\OneDrive\\Documents\\ArcGIS\\Projects\\GIS 5571 Lab2_2\\PRISM_SPT.nc\",\n",
    "    fill_empty_bins=\"ZEROS\"\n",
    ")"
   ]
  }
 ],
 "metadata": {
  "kernelspec": {
   "display_name": "Python 3 (ipykernel)",
   "language": "python",
   "name": "python3"
  },
  "language_info": {
   "codemirror_mode": {
    "name": "ipython",
    "version": 3
   },
   "file_extension": ".py",
   "mimetype": "text/x-python",
   "name": "python",
   "nbconvert_exporter": "python",
   "pygments_lexer": "ipython3",
   "version": "3.9.7"
  }
 },
 "nbformat": 4,
 "nbformat_minor": 4
}
