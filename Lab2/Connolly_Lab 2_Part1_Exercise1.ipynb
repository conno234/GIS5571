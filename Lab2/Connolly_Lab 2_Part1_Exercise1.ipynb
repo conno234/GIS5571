{
 "cells": [
  {
   "cell_type": "code",
   "execution_count": 18,
   "metadata": {},
   "outputs": [],
   "source": [
    "import arcpy\n",
    "import os\n",
    "\n"
   ]
  },
  {
   "cell_type": "code",
   "execution_count": 4,
   "metadata": {},
   "outputs": [],
   "source": [
    "#Let's establish our work environment\n",
    "arcpy.env.workspace = r'C:\\Users\\conno\\OneDrive\\Documents\\ArcGIS\\Projects\\GIS 5571 Lab 2'"
   ]
  },
  {
   "cell_type": "code",
   "execution_count": 7,
   "metadata": {},
   "outputs": [
    {
     "name": "stderr",
     "output_type": "stream",
     "text": [
      "  % Total    % Received % Xferd  Average Speed   Time    Time     Time  Current\n",
      "                                 Dload  Upload   Total   Spent    Left  Speed\n",
      "﻿\n",
      "  0     0    0     0    0     0      0      0 --:--:-- --:--:-- --:--:--     0\n",
      "  0 19.4M    0  164k    0     0   485k      0  0:00:41 --:--:--  0:00:41  487k\n",
      "  6 19.4M    6 1334k    0     0   995k      0  0:00:20  0:00:01  0:00:19  995k\n",
      " 12 19.4M   12 2525k    0     0  1078k      0  0:00:18  0:00:02  0:00:16 1078k\n",
      " 20 19.4M   20 4086k    0     0  1220k      0  0:00:16  0:00:03  0:00:13 1220k\n",
      " 25 19.4M   25 5083k    0     0  1172k      0  0:00:17  0:00:04  0:00:13 1172k\n",
      " 37 19.4M   37 7452k    0     0  1397k      0  0:00:14  0:00:05  0:00:09 1458k\n",
      " 48 19.4M   48 9640k    0     0  1519k      0  0:00:13  0:00:06  0:00:07 1660k\n",
      " 61 19.4M   61 12.0M    0     0  1681k      0  0:00:11  0:00:07  0:00:04 1963k\n",
      " 73 19.4M   73 14.2M    0     0  1749k      0  0:00:11  0:00:08  0:00:03 2104k\n",
      " 87 19.4M   87 17.0M    0     0  1871k      0  0:00:10  0:00:09  0:00:01 2477k\n",
      " 97 19.4M   97 19.0M    0     0  1881k      0  0:00:10  0:00:10 --:--:-- 2398k\n",
      "100 19.4M  100 19.4M    0     0  1829k      0  0:00:10  0:00:10 --:--:-- 2261k\n"
     ]
    }
   ],
   "source": [
    "#Then we perform the curl request to grab ourselves a laz file\n",
    "!curl -o example.laz https://resources.gisdata.mn.gov/pub/data/elevation/lidar/county/wabasha/laz/4342-27-59.laz"
   ]
  },
  {
   "cell_type": "code",
   "execution_count": 44,
   "metadata": {},
   "outputs": [],
   "source": [
    "#Then we define the LAZ file within the workspace directory\n",
    "input_laz = 'example.laz'\n",
    "\n",
    "#And then we define the output LAS file within the workspace directory\n",
    "output_las = 'example.las'\n"
   ]
  },
  {
   "cell_type": "code",
   "execution_count": 47,
   "metadata": {},
   "outputs": [
    {
     "data": {
      "text/html": [
       "<div class='gpresult'><h2>Messages</h2><div id='messages' data-messages='[\"Start Time: Monday, October 23, 2023 5:11:45 PM\",\"Succeeded at Monday, October 23, 2023 5:11:50 PM (Elapsed Time: 5.44 seconds)\"]' data-show='true'><div id = 'default' /></div></div>"
      ],
      "text/plain": [
       "<Result 'C:\\\\Users\\\\conno\\\\OneDrive\\\\Documents\\\\ArcGIS\\\\Projects\\\\GIS 5571 Lab 2\\\\example.lasd'>"
      ]
     },
     "execution_count": 47,
     "metadata": {},
     "output_type": "execute_result"
    }
   ],
   "source": [
    "#First we convert the laz file to a proper las file\n",
    "arcpy.conversion.ConvertLas(\n",
    "    in_las=r\"C:\\Users\\conno\\OneDrive\\Documents\\ArcGIS\\Projects\\GIS 5571 Lab 2\\example.laz\",\n",
    "    target_folder=r\"C:\\Users\\conno\\OneDrive\\Documents\\ArcGIS\\Projects\\GIS 5571 Lab 2\",\n",
    "    file_version=\"SAME_AS_INPUT\",\n",
    "    point_format=\"\",\n",
    "    compression=\"NO_COMPRESSION\",\n",
    "    las_options=\"REARRANGE_POINTS\",\n",
    "    out_las_dataset=r\"C:\\Users\\conno\\OneDrive\\Documents\\ArcGIS\\Projects\\GIS 5571 Lab 2\\example.las\",\n",
    "    define_coordinate_system=\"NO_FILES\",\n",
    "    in_coordinate_system=None\n",
    ")"
   ]
  },
  {
   "cell_type": "code",
   "execution_count": 50,
   "metadata": {},
   "outputs": [
    {
     "data": {
      "text/html": [
       "<div class='gpresult'><h2>Messages</h2><div id='messages' data-messages='[\"Start Time: Monday, October 23, 2023 5:37:11 PM\",\"Succeeded at Monday, October 23, 2023 5:37:12 PM (Elapsed Time: 0.65 seconds)\"]' data-show='true'><div id = 'default' /></div></div>"
      ],
      "text/plain": [
       "<Result 'C:\\\\Users\\\\conno\\\\OneDrive\\\\Documents\\\\ArcGIS\\\\Projects\\\\GIS 5571 Lab 2\\\\example_LasDatasetToTin'>"
      ]
     },
     "execution_count": 50,
     "metadata": {},
     "output_type": "execute_result"
    }
   ],
   "source": [
    "#Then we can use that dataset to construct a TIN model\n",
    "arcpy.ddd.LasDatasetToTin(\n",
    "    in_las_dataset=r\"C:\\Users\\conno\\OneDrive\\Documents\\ArcGIS\\Projects\\GIS 5571 Lab 2\\example.las\",\n",
    "    out_tin=r\"C:\\Users\\conno\\OneDrive\\Documents\\ArcGIS\\Projects\\GIS 5571 Lab 2\\TIN\",\n",
    "    thinning_type=\"WINDOW_SIZE\",\n",
    "    thinning_method=\"CLOSEST_TO_MEAN\",\n",
    "    thinning_value=10,\n",
    "    max_nodes=5000000,\n",
    "    z_factor=1,\n",
    "    clip_to_extent=\"CLIP\"\n",
    ")"
   ]
  },
  {
   "cell_type": "code",
   "execution_count": 1,
   "metadata": {},
   "outputs": [
    {
     "data": {
      "text/html": [
       "<div class='gpresult'><h2>Messages</h2><div id='messages' data-messages='[\"Start Time: Thursday, October 26, 2023 1:04:09 PM\",\"Succeeded at Thursday, October 26, 2023 1:04:14 PM (Elapsed Time: 4.26 seconds)\"]' data-show='true'><div id = 'default' /></div></div>"
      ],
      "text/plain": [
       "<Result 'c:\\\\Users\\\\conno\\\\OneDrive\\\\documents\\\\ArcGIS\\\\Projects\\\\gis 5571 lab 2\\\\gis 5571 lab 2.gdb\\\\example_dem'>"
      ]
     },
     "execution_count": 1,
     "metadata": {},
     "output_type": "execute_result"
    }
   ],
   "source": [
    "#We can also create a DEM file from the same laz file by converting the las to a raster with the eleveation value\n",
    "arcpy.conversion.LasDatasetToRaster(\n",
    "    in_las_dataset=r\"C:\\Users\\conno\\OneDrive\\Documents\\ArcGIS\\Projects\\GIS 5571 Lab 2\\example.las\",\n",
    "    out_raster=r\"c:\\Users\\conno\\OneDrive\\documents\\ArcGIS\\Projects\\gis 5571 lab 2\\gis 5571 lab 2.gdb\\example_dem\",\n",
    "    value_field=\"ELEVATION\",\n",
    "    interpolation_type=\"BINNING AVERAGE LINEAR\",\n",
    "    data_type=\"FLOAT\",\n",
    "    sampling_type=\"CELLSIZE\",\n",
    "    sampling_value=10,\n",
    "    z_factor=1\n",
    ")"
   ]
  },
  {
   "cell_type": "code",
   "execution_count": 29,
   "metadata": {},
   "outputs": [
    {
     "data": {
      "text/plain": [
       "'C:\\\\Users\\\\conno\\\\OneDrive\\\\Documents\\\\ArcGIS\\\\Projects\\\\GIS 5571 Lab 2\\\\DEM.pdf'"
      ]
     },
     "execution_count": 29,
     "metadata": {},
     "output_type": "execute_result"
    }
   ],
   "source": [
    "#Use the following code to export the DEM and TIN layers after saving both to separate maps and separate layouts\n",
    "aprx = arcpy.mp.ArcGISProject(\"CURRENT\")\n",
    "map = aprx.listMaps(\"Map\")[0] \n",
    "layout = aprx.listLayouts()[0] \n",
    "layout.exportToPDF(r\"C:\\Users\\conno\\OneDrive\\Documents\\ArcGIS\\Projects\\GIS 5571 Lab 2\\DEM.pdf\")"
   ]
  },
  {
   "cell_type": "code",
   "execution_count": 33,
   "metadata": {},
   "outputs": [
    {
     "data": {
      "text/plain": [
       "'C:\\\\Users\\\\conno\\\\OneDrive\\\\Documents\\\\ArcGIS\\\\Projects\\\\GIS 5571 Lab 2\\\\TIN.pdf'"
      ]
     },
     "execution_count": 33,
     "metadata": {},
     "output_type": "execute_result"
    }
   ],
   "source": [
    "# Get the desired map and layout\n",
    "map = aprx.listMaps(\"Map1\")[0] \n",
    "layout = aprx.listLayouts()[1]\n",
    "layout.exportToPDF(r\"C:\\Users\\conno\\OneDrive\\Documents\\ArcGIS\\Projects\\GIS 5571 Lab 2\\TIN.pdf\")"
   ]
  },
  {
   "cell_type": "code",
   "execution_count": null,
   "metadata": {},
   "outputs": [],
   "source": []
  }
 ],
 "metadata": {
  "kernelspec": {
   "display_name": "Python 3 (ipykernel)",
   "language": "python",
   "name": "python3"
  },
  "language_info": {
   "codemirror_mode": {
    "name": "ipython",
    "version": 3
   },
   "file_extension": ".py",
   "mimetype": "text/x-python",
   "name": "python",
   "nbconvert_exporter": "python",
   "pygments_lexer": "ipython3",
   "version": "3.9.7"
  }
 },
 "nbformat": 4,
 "nbformat_minor": 4
}
