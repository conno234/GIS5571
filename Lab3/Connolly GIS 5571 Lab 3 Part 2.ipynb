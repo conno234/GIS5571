{
 "cells": [
  {
   "cell_type": "code",
   "execution_count": 75,
   "metadata": {
    "scrolled": true
   },
   "outputs": [],
   "source": [
    "import requests\n",
    "import csv\n",
    "import arcpy\n",
    "import os\n",
    "import io\n",
    "from io import StringIO\n",
    "import pandas as pd\n",
    "from datetime import datetime, timedelta"
   ]
  },
  {
   "cell_type": "code",
   "execution_count": 76,
   "metadata": {},
   "outputs": [],
   "source": [
    "\n",
    "\n",
    "# Using the datetime tool, we can get today's date and format it as \"YYYY-MM-DD\"\n",
    "today_date = datetime.now().strftime(\"%Y-%m-%d\")"
   ]
  },
  {
   "cell_type": "code",
   "execution_count": 77,
   "metadata": {},
   "outputs": [],
   "source": [
    "#We use the requests tool to get the maximum temperature data as a CSV\n",
    "#The end of the URL has been adjusted so that it takes in the current date\n",
    "url = \"https://ndawn.ndsu.nodak.edu/table.csv?station=78&station=111&station=98&station=162&station=174&station=142&station=164&station=138&station=161&station=9&station=160&station=159&station=10&station=118&station=56&station=165&station=11&station=12&station=58&station=13&station=84&station=55&station=179&station=7&station=186&station=87&station=14&station=15&station=96&station=191&station=16&station=201&station=137&station=124&station=143&station=17&station=85&station=140&station=134&station=18&station=136&station=65&station=104&station=99&station=192&station=19&station=129&station=20&station=101&station=166&station=178&station=81&station=21&station=97&station=22&station=75&station=184&station=2&station=172&station=139&station=158&station=23&station=157&station=62&station=86&station=24&station=89&station=126&station=167&station=93&station=183&station=90&station=25&station=83&station=107&station=156&station=77&station=26&station=155&station=70&station=127&station=144&station=27&station=173&station=132&station=28&station=195&station=185&station=29&station=30&station=154&station=31&station=187&station=102&station=32&station=119&station=4&station=80&station=33&station=59&station=153&station=105&station=82&station=34&station=198&station=72&station=135&station=35&station=76&station=120&station=141&station=109&station=36&station=79&station=193&station=71&station=37&station=38&station=189&station=39&station=130&station=73&station=188&station=40&station=41&station=54&station=69&station=194&station=145&station=113&station=128&station=42&station=43&station=103&station=171&station=116&station=196&station=88&station=114&station=3&station=163&station=200&station=64&station=115&station=168&station=67&station=175&station=146&station=170&station=197&station=44&station=133&station=106&station=100&station=121&station=45&station=46&station=61&station=66&station=181&station=74&station=60&station=199&station=125&station=176&station=177&station=8&station=180&station=204&station=47&station=122&station=108&station=5&station=152&station=48&station=151&station=147&station=68&station=169&station=49&station=50&station=91&station=182&station=117&station=63&station=150&station=51&station=6&station=52&station=92&station=112&station=131&station=123&station=95&station=53&station=203&station=190&station=57&station=149&station=148&station=202&station=110&variable=ddmxt&year=2023&ttype=daily&quick_pick=30_d&begin_date=2023-11-26&end_date={today_date}\"\n",
    "\n",
    "response = requests.get(url)"
   ]
  },
  {
   "cell_type": "code",
   "execution_count": 79,
   "metadata": {},
   "outputs": [],
   "source": [
    "#We then read in the CSV's text\n",
    "#Since there were issues with all the entries on one row ending up in the same cell, the following code breaks them up into columns\n",
    "data = response.text\n",
    "lines = data.strip().split('\\n')[3:]\n",
    "result = '\\n'.join(lines)"
   ]
  },
  {
   "cell_type": "code",
   "execution_count": 81,
   "metadata": {},
   "outputs": [],
   "source": [
    "#We then can read the CSV data into a dataframe.\n",
    "csv_file = StringIO(result)\n",
    "dataframe = pd.read_csv(csv_file)\n"
   ]
  },
  {
   "cell_type": "code",
   "execution_count": 82,
   "metadata": {},
   "outputs": [],
   "source": [
    "#Since the first line after the column headers is units, we can drop that.\n",
    "dataframe = dataframe.iloc[1:]"
   ]
  },
  {
   "cell_type": "code",
   "execution_count": null,
   "metadata": {},
   "outputs": [],
   "source": [
    "#First we convert the values of the temperature, latitude, and longitude columns to numeric\n",
    "dataframe['Max Temp'] = pd.to_numeric(dataframe['Max Temp'], errors='coerce')\n",
    "dataframe['Latitude'] = pd.to_numeric(dataframe['Latitude'], errors='coerce')\n",
    "dataframe['Longitude'] = pd.to_numeric(dataframe['Longitude'], errors='coerce')\n",
    "\n",
    "# Then, we group by \"Station Name\" and calculate the mean for each group and read that into a new dataframe\n",
    "average_max_temp_df = dataframe.groupby(\"Station Name\").agg({\n",
    "    \"Max Temp\":'mean',\n",
    "    'Latitude':'mean',\n",
    "    'Longitude':\"mean\"\n",
    "}).reset_index()"
   ]
  },
  {
   "cell_type": "code",
   "execution_count": 84,
   "metadata": {},
   "outputs": [],
   "source": [
    "#Then we perofrm the same procedure to gather the minimum temperature data\n",
    "\n",
    "min_url = \"https://ndawn.ndsu.nodak.edu/table.csv?station=78&station=111&station=98&station=162&station=174&station=142&station=164&station=138&station=161&station=9&station=160&station=159&station=10&station=118&station=56&station=165&station=11&station=12&station=58&station=13&station=84&station=55&station=179&station=7&station=186&station=87&station=14&station=15&station=96&station=191&station=16&station=201&station=137&station=124&station=143&station=17&station=85&station=140&station=134&station=18&station=136&station=65&station=104&station=99&station=192&station=19&station=129&station=20&station=101&station=166&station=178&station=81&station=21&station=97&station=22&station=75&station=184&station=2&station=172&station=139&station=158&station=23&station=157&station=62&station=86&station=24&station=89&station=126&station=167&station=93&station=183&station=90&station=25&station=83&station=107&station=156&station=77&station=26&station=155&station=70&station=127&station=144&station=27&station=173&station=132&station=28&station=195&station=185&station=29&station=30&station=154&station=31&station=187&station=102&station=32&station=119&station=4&station=80&station=33&station=59&station=153&station=105&station=82&station=34&station=198&station=72&station=135&station=35&station=76&station=120&station=141&station=109&station=36&station=79&station=193&station=71&station=37&station=38&station=189&station=39&station=130&station=73&station=188&station=40&station=41&station=54&station=69&station=194&station=145&station=113&station=128&station=42&station=43&station=103&station=171&station=116&station=196&station=88&station=114&station=3&station=163&station=200&station=64&station=115&station=168&station=67&station=175&station=146&station=170&station=197&station=44&station=133&station=106&station=100&station=121&station=45&station=46&station=61&station=66&station=181&station=74&station=60&station=199&station=125&station=176&station=177&station=8&station=180&station=204&station=47&station=122&station=108&station=5&station=152&station=48&station=151&station=147&station=68&station=169&station=49&station=50&station=91&station=182&station=117&station=63&station=150&station=51&station=6&station=52&station=92&station=112&station=131&station=123&station=95&station=53&station=203&station=190&station=57&station=149&station=148&station=202&station=110&variable=ddmnt&year=2023&ttype=daily&quick_pick=30_d&begin_date=2023-11-26&end_date={today_date}\"\n",
    "min_response = requests.get(min_url)\n",
    "\n",
    "min_data= min_response.text\n",
    "\n",
    "min_lines = min_data.strip().split('\\n')[3:]\n",
    "\n",
    "min_result = '\\n'.join(min_lines)\n",
    "\n",
    "min_csv_file = StringIO(min_result)\n",
    "\n",
    "min_dataframe = pd.read_csv(min_csv_file)\n",
    "\n",
    "min_dataframe = min_dataframe.iloc[1:]\n",
    "\n",
    "min_dataframe['Min Temp'] = pd.to_numeric(min_dataframe['Min Temp'], errors='coerce')\n",
    "min_dataframe['Latitude'] = pd.to_numeric(min_dataframe['Latitude'], errors='coerce')\n",
    "min_dataframe['Longitude'] = pd.to_numeric(min_dataframe['Longitude'], errors='coerce')\n",
    "\n",
    "average_min_temp_df = min_dataframe.groupby(\"Station Name\").agg({\n",
    "    \"Min Temp\":'mean',\n",
    "    'Latitude':'mean',\n",
    "    'Longitude':\"mean\"\n",
    "}).reset_index()\n"
   ]
  },
  {
   "cell_type": "code",
   "execution_count": 92,
   "metadata": {},
   "outputs": [],
   "source": [
    "# We then save the modified dataframes back to the CSV files\n",
    "average_max_temp_df.to_csv('max_temp.csv', index=False)\n",
    "average_min_temp_df.to_csv('min_temp.csv', index=False)"
   ]
  },
  {
   "cell_type": "code",
   "execution_count": 93,
   "metadata": {},
   "outputs": [
    {
     "data": {
      "text/html": [
       "<div class='gpresult'><h2>Messages</h2><div id='messages' data-messages='[\"Start Time: Monday, November 27, 2023 10:11:17 PM\",\"Succeeded at Monday, November 27, 2023 10:11:20 PM (Elapsed Time: 2.93 seconds)\"]' data-show='true'><div id = 'default' /></div></div>"
      ],
      "text/plain": [
       "<Result 'C:\\\\Users\\\\conno\\\\OneDrive\\\\Documents\\\\ArcGIS\\\\Projects\\\\GIS 5571 Lab3_2\\\\GIS 5571 Lab3_2.gdb\\\\output_modified_XYTableToPoint_max'>"
      ]
     },
     "execution_count": 93,
     "metadata": {},
     "output_type": "execute_result"
    }
   ],
   "source": [
    "#We are going to produe two sets of point features representing NDAWN stations.\n",
    "#The first will be based off the maximum temperature data and use temperature as the Z field\n",
    "arcpy.management.XYTableToPoint(\n",
    "    in_table=\"max_temp.csv\",\n",
    "    out_feature_class=r\"C:\\Users\\conno\\OneDrive\\Documents\\ArcGIS\\Projects\\GIS 5571 Lab3_2\\GIS 5571 Lab3_2.gdb\\output_modified_XYTableToPoint_max\",\n",
    "    x_field=\"Longitude\",\n",
    "    y_field=\"Latitude\",\n",
    "    z_field=\"Max Temp\",\n",
    "    coordinate_system='GEOGCS[\"GCS_WGS_1984\",DATUM[\"D_WGS_1984\",SPHEROID[\"WGS_1984\",6378137.0,298.257223563]],PRIMEM[\"Greenwich\",0.0],UNIT[\"Degree\",0.0174532925199433]],VERTCS[\"WGS_1984\",DATUM[\"D_WGS_1984\",SPHEROID[\"WGS_1984\",6378137.0,298.257223563]],PARAMETER[\"Vertical_Shift\",0.0],PARAMETER[\"Direction\",1.0],UNIT[\"Meter\",1.0]];-400 -400 1000000000;-100000 10000;-100000 10000;8.98315284119521E-09;0.001;0.001;IsHighPrecision'\n",
    ")"
   ]
  },
  {
   "cell_type": "code",
   "execution_count": 97,
   "metadata": {},
   "outputs": [
    {
     "data": {
      "text/html": [
       "<div class='gpresult'><h2>Messages</h2><div id='messages' data-messages='[\"Start Time: Monday, November 27, 2023 10:17:59 PM\",\"Succeeded at Monday, November 27, 2023 10:18:02 PM (Elapsed Time: 2.85 seconds)\"]' data-show='true'><div id = 'default' /></div></div>"
      ],
      "text/plain": [
       "<Result 'C:\\\\Users\\\\conno\\\\OneDrive\\\\Documents\\\\ArcGIS\\\\Projects\\\\GIS 5571 Lab3_2\\\\GIS 5571 Lab3_2.gdb\\\\output_modified_XYTableToPoint_min'>"
      ]
     },
     "execution_count": 97,
     "metadata": {},
     "output_type": "execute_result"
    }
   ],
   "source": [
    "#We will create another set for the minimum temperature data.\n",
    "arcpy.management.XYTableToPoint(\n",
    "    in_table=\"min_temp.csv\",\n",
    "    out_feature_class=r\"C:\\Users\\conno\\OneDrive\\Documents\\ArcGIS\\Projects\\GIS 5571 Lab3_2\\GIS 5571 Lab3_2.gdb\\output_modified_XYTableToPoint_min\",\n",
    "    x_field=\"Longitude\",\n",
    "    y_field=\"Latitude\",\n",
    "    z_field=\"Min Temp\",\n",
    "    coordinate_system='GEOGCS[\"GCS_WGS_1984\",DATUM[\"D_WGS_1984\",SPHEROID[\"WGS_1984\",6378137.0,298.257223563]],PRIMEM[\"Greenwich\",0.0],UNIT[\"Degree\",0.0174532925199433]],VERTCS[\"WGS_1984\",DATUM[\"D_WGS_1984\",SPHEROID[\"WGS_1984\",6378137.0,298.257223563]],PARAMETER[\"Vertical_Shift\",0.0],PARAMETER[\"Direction\",1.0],UNIT[\"Meter\",1.0]];-400 -400 1000000000;-100000 10000;-100000 10000;8.98315284119521E-09;0.001;0.001;IsHighPrecision'\n",
    ")"
   ]
  },
  {
   "cell_type": "code",
   "execution_count": 98,
   "metadata": {},
   "outputs": [],
   "source": [
    "#From here, we can create our interpolations. First we will use IDW for the maximum temperature dataset\n",
    "with arcpy.EnvManager(scratchWorkspace=r\"C:\\Users\\conno\\OneDrive\\Documents\\ArcGIS\\Projects\\GIS 5571 Lab3_2\\GIS 5571 Lab3_2.gdb\"):\n",
    "    out_raster = arcpy.sa.Idw(\n",
    "        in_point_features=\"output_modified_XYTableToPoint_max\",\n",
    "        z_field=\"Max_Temp\",\n",
    "        cell_size=0.0172421199999999,\n",
    "        power=2,\n",
    "        search_radius=\"VARIABLE 12\",\n",
    "        in_barrier_polyline_features=None\n",
    "    )\n",
    "    out_raster.save(r\"C:\\Users\\conno\\OneDrive\\Documents\\ArcGIS\\Projects\\GIS 5571 Lab3_2\\GIS 5571 Lab3_2.gdb\\Idw_output_m_max\")"
   ]
  },
  {
   "cell_type": "code",
   "execution_count": 95,
   "metadata": {},
   "outputs": [
    {
     "data": {
      "text/html": [
       "<div class='gpresult'><h2>Messages</h2><div id='messages' data-messages='[\"Start Time: Monday, November 27, 2023 10:12:13 PM\",\"\\r\\nWarning(s) for dataset: Length of the radius of the search circle = 3.5433e+05 meters.\",\"Succeeded at Monday, November 27, 2023 10:12:38 PM (Elapsed Time: 24.97 seconds)\"]' data-show='true'><div id = 'default' /></div></div>"
      ],
      "text/plain": [
       "<Result ''>"
      ]
     },
     "execution_count": 95,
     "metadata": {},
     "output_type": "execute_result"
    }
   ],
   "source": [
    "#Then we do an EBK interpolation for the maximum temperature dataset\n",
    "arcpy.ga.EmpiricalBayesianKriging(\n",
    "    in_features=\"output_modified_XYTableToPoint_max\",\n",
    "    z_field=\"Max_Temp\",\n",
    "    out_ga_layer=None,\n",
    "    out_raster=r\"C:\\Users\\conno\\OneDrive\\Documents\\ArcGIS\\Projects\\GIS 5571 Lab3_2\\GIS 5571 Lab3_2.gdb\\EBK_Interpolation_raster_max\",\n",
    "    cell_size=0.0172421199999999,\n",
    "    transformation_type=\"NONE\",\n",
    "    max_local_points=100,\n",
    "    overlap_factor=1,\n",
    "    number_semivariograms=100,\n",
    "    search_neighborhood=\"NBRTYPE=StandardCircular RADIUS=3.1834293129079 ANGLE=0 NBR_MAX=15 NBR_MIN=10 SECTOR_TYPE=ONE_SECTOR\",\n",
    "    output_type=\"PREDICTION\",\n",
    "    quantile_value=0.5,\n",
    "    threshold_type=\"EXCEED\",\n",
    "    probability_threshold=None,\n",
    "    semivariogram_model_type=\"POWER\"\n",
    ")"
   ]
  },
  {
   "cell_type": "code",
   "execution_count": 96,
   "metadata": {},
   "outputs": [
    {
     "data": {
      "text/html": [
       "<div class='gpresult'><h2>Messages</h2><div id='messages' data-messages='[\"Start Time: Monday, November 27, 2023 10:13:11 PM\",\"Succeeded at Monday, November 27, 2023 10:13:17 PM (Elapsed Time: 5.98 seconds)\"]' data-show='true'><div id = 'default' /></div></div>"
      ],
      "text/plain": [
       "<Result 'GPI_Output'>"
      ]
     },
     "execution_count": 96,
     "metadata": {},
     "output_type": "execute_result"
    }
   ],
   "source": [
    "#Finally we create an NNI interpolation for the maximum temperature dataset\n",
    "with arcpy.EnvManager(scratchWorkspace=r\"C:\\Users\\conno\\OneDrive\\Documents\\ArcGIS\\Projects\\GIS 5571 Lab3_2\\GIS 5571 Lab3_2.gdb\"):\n",
    "    Natural_outp1_max = arcpy.sa.NaturalNeighbor(\n",
    "        in_point_features=\"output_modified_XYTableToPoint_max\",\n",
    "        z_field=\"Max_Temp\",\n",
    "        cell_size=0.0172421199999999\n",
    "    )\n",
    "    Natural_outp1_max.save(r\"C:\\Users\\conno\\OneDrive\\Documents\\ArcGIS\\Projects\\GIS 5571 Lab3_2\\GIS 5571 Lab3_2.gdb\\Natural_outp1_max\")"
   ]
  },
  {
   "cell_type": "code",
   "execution_count": 99,
   "metadata": {},
   "outputs": [
    {
     "data": {
      "text/html": [
       "<div class='gpresult'><h2>Messages</h2><div id='messages' data-messages='[\"Start Time: Monday, November 27, 2023 10:18:58 PM\",\"Succeeded at Monday, November 27, 2023 10:19:04 PM (Elapsed Time: 6.59 seconds)\"]' data-show='true'><div id = 'default' /></div></div>"
      ],
      "text/plain": [
       "<Result 'GPI_Output'>"
      ]
     },
     "execution_count": 99,
     "metadata": {},
     "output_type": "execute_result"
    }
   ],
   "source": [
    "#Once we have those, we can perform the same interpolations for the minimum temperature dataset\n",
    "with arcpy.EnvManager(scratchWorkspace=r\"C:\\Users\\conno\\OneDrive\\Documents\\ArcGIS\\Projects\\GIS 5571 Lab3_2\\GIS 5571 Lab3_2.gdb\"):\n",
    "    out_raster = arcpy.sa.Idw(\n",
    "        in_point_features=\"output_modified_XYTableToPoint_min\",\n",
    "        z_field=\"Min_Temp\",\n",
    "        cell_size=0.0172421199999999,\n",
    "        power=2,\n",
    "        search_radius=\"VARIABLE 12\",\n",
    "        in_barrier_polyline_features=None\n",
    "    )\n",
    "    out_raster_min.save(r\"C:\\Users\\conno\\OneDrive\\Documents\\ArcGIS\\Projects\\GIS 5571 Lab3_2\\GIS 5571 Lab3_2.gdb\\Idw_output_min\")\n",
    "    \n",
    "    arcpy.ga.EmpiricalBayesianKriging(\n",
    "    in_features=\"output_modified_XYTableToPoint_min\",\n",
    "    z_field=\"Min_Temp\",\n",
    "    out_ga_layer=None,\n",
    "    out_raster=r\"C:\\Users\\conno\\OneDrive\\Documents\\ArcGIS\\Projects\\GIS 5571 Lab3_2\\GIS 5571 Lab3_2.gdb\\EBK_Interpolation_raster_min\",\n",
    "    cell_size=0.0172421199999999,\n",
    "    transformation_type=\"NONE\",\n",
    "    max_local_points=100,\n",
    "    overlap_factor=1,\n",
    "    number_semivariograms=100,\n",
    "    search_neighborhood=\"NBRTYPE=StandardCircular RADIUS=3.1834293129079 ANGLE=0 NBR_MAX=15 NBR_MIN=10 SECTOR_TYPE=ONE_SECTOR\",\n",
    "    output_type=\"PREDICTION\",\n",
    "    quantile_value=0.5,\n",
    "    threshold_type=\"EXCEED\",\n",
    "    probability_threshold=None,\n",
    "    semivariogram_model_type=\"POWER\"\n",
    ")\n",
    "\n",
    "    \n",
    "with arcpy.EnvManager(scratchWorkspace=r\"C:\\Users\\conno\\OneDrive\\Documents\\ArcGIS\\Projects\\GIS 5571 Lab3_2\\GIS 5571 Lab3_2.gdb\"):\n",
    "    Natural_outp1_min = arcpy.sa.NaturalNeighbor(\n",
    "        in_point_features=\"output_modified_XYTableToPoint_min\",\n",
    "        z_field=\"Min_Temp\",\n",
    "        cell_size=0.0172421199999999\n",
    "    )\n",
    "    Natural_outp1_min.save(r\"C:\\Users\\conno\\OneDrive\\Documents\\ArcGIS\\Projects\\GIS 5571 Lab3_2\\GIS 5571 Lab3_2.gdb\\Natural_outp1_min\")"
   ]
  }
 ],
 "metadata": {
  "kernelspec": {
   "display_name": "Python 3 (ipykernel)",
   "language": "python",
   "name": "python3"
  },
  "language_info": {
   "codemirror_mode": {
    "name": "ipython",
    "version": 3
   },
   "file_extension": ".py",
   "mimetype": "text/x-python",
   "name": "python",
   "nbconvert_exporter": "python",
   "pygments_lexer": "ipython3",
   "version": "3.9.7"
  }
 },
 "nbformat": 4,
 "nbformat_minor": 4
}
