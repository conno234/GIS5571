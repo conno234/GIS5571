{
 "cells": [
  {
   "cell_type": "code",
   "execution_count": 1,
   "id": "6a35078a-2853-4635-8011-42a4d6a1f974",
   "metadata": {},
   "outputs": [],
   "source": [
    "#First we will import the needed packages for this notebook\n",
    "import requests\n",
    "import urllib3\n",
    "#Since some of the APIs may require certificate authorization, we'll use the below code to get around that.\n",
    "urllib3.disable_warnings()"
   ]
  },
  {
   "cell_type": "code",
   "execution_count": 2,
   "id": "1fbd9fa2-9b87-4271-93b6-ef62c21c340a",
   "metadata": {},
   "outputs": [],
   "source": [
    "#We will put in the API URL\n",
    "api_url_3=r\"https://ndawn.ndsu.nodak.edu/table.csv?station=138&variable=ddmxws&year=2023&ttype=daily&quick_pick=&begin_date=2023-09-28&end_date=2023-09-28\"\n",
    "#Then we will make the API call and save it to \"response 3\"\n",
    "response_3 = requests.get(api_url_3)\n"
   ]
  },
  {
   "cell_type": "code",
   "execution_count": 4,
   "id": "f9589f75-6a3b-42a9-aea8-b8aca2ac7fd1",
   "metadata": {},
   "outputs": [],
   "source": [
    "# Now that we have the data, let us read the data into a dictionary for easier reading\n",
    "api_data = {\n",
    "    \"request_url\": api_url_3,\n",
    "    \"status_code\": response_3.status_code,\n",
    "    \"data\": response_3.text} \n"
   ]
  },
  {
   "cell_type": "code",
   "execution_count": 5,
   "id": "64b706fa-5867-45ab-90d9-547b05e879a3",
   "metadata": {},
   "outputs": [
    {
     "data": {
      "text/plain": [
       "{'request_url': 'https://ndawn.ndsu.nodak.edu/table.csv?station=138&variable=ddmxws&year=2023&ttype=daily&quick_pick=&begin_date=2023-09-28&end_date=2023-09-28',\n",
       " 'status_code': 200,\n",
       " 'data': 'Data from North Dakota Agricultural Weather Network https://ndawn.ndsu.nodak.edu\\r\\nDaily Observation Table for September 28 2023\\r\\nFlag Definition Line: M - Missing; E - Estimated; N/A - Not Available\\r\\nStation Name,Latitude,Longitude,Elevation,Year,Month,Day,Max Wind Speed,Max Wind Speed Flag\\r\\n,deg,deg,ft,,,,mph,\\r\\nArnegard,47.93947,-103.45565,2254,2023,09,28,22.861,\\r\\n'}"
      ]
     },
     "execution_count": 5,
     "metadata": {},
     "output_type": "execute_result"
    }
   ],
   "source": [
    "# Finally we take a look at our data in this dictionary\n",
    "api_data"
   ]
  },
  {
   "cell_type": "code",
   "execution_count": null,
   "id": "b64b9e83-a358-426f-886a-c51d081d0fe6",
   "metadata": {},
   "outputs": [],
   "source": []
  }
 ],
 "metadata": {
  "kernelspec": {
   "display_name": "Python 3 (ipykernel)",
   "language": "python",
   "name": "python3"
  },
  "language_info": {
   "codemirror_mode": {
    "name": "ipython",
    "version": 3
   },
   "file_extension": ".py",
   "mimetype": "text/x-python",
   "name": "python",
   "nbconvert_exporter": "python",
   "pygments_lexer": "ipython3",
   "version": "3.9.7"
  }
 },
 "nbformat": 4,
 "nbformat_minor": 5
}
