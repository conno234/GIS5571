{
 "cells": [
  {
   "cell_type": "code",
   "execution_count": 1,
   "id": "544e93b8-7595-4fa5-a68e-0182e1845a10",
   "metadata": {},
   "outputs": [],
   "source": [
    "#First we will import the needed packages for this notebook\n",
    "import requests\n",
    "import urllib3\n",
    "\n",
    "#Since some of the APIs may require certificate authorization, we'll use the below code to get around that.\n",
    "urllib3.disable_warnings()"
   ]
  },
  {
   "cell_type": "code",
   "execution_count": 2,
   "id": "52e23b9d-b4a1-4e93-89a2-d1884ce0a816",
   "metadata": {},
   "outputs": [],
   "source": [
    "#First, let's save out API key to a specific variable.\n",
    "api_key = 'INSERT KEY HERE'\n",
    "\n",
    "#Next we can load the base API URL without the API key, including the type of command we wish to perform.\n",
    "#In this case, it's a \"find place from text\" command.\n",
    "#We will also be calling our API request in the form of a json.\n",
    "base_url = \"https://maps.googleapis.com/maps/api/place/findplacefromtext/json\"\n",
    "\n",
    "#We then want to define the parameters for the request.\n",
    "params = {\n",
    "    #I want to gather address, place names, and the coordinates of our requested locations.\n",
    "    'fields': 'formatted_address,name,geometry',\n",
    "    #We will set the keyword we will be looking for and the type of input.\n",
    "    'input': 'starbuck',\n",
    "    'inputtype': 'textquery',\n",
    "    #Finally, we will look for locations using a location bias. In this case, it's a 3000 meter radius around the Universtiy of Minnesota.\n",
    "    'locationbias': 'circle:3000@44.974,-93.2277',\n",
    "    'key': api_key  # The variable for our API key goes here.\n",
    "}\n",
    "\n",
    "#Finally, we can make the API request\n",
    "response_2 = requests.get(base_url, params=params)"
   ]
  },
  {
   "cell_type": "code",
   "execution_count": 3,
   "id": "468a7f17-0f1e-4b5d-8562-d2d36c2acf8d",
   "metadata": {},
   "outputs": [],
   "source": [
    "#We will save our API request as a JSON\n",
    "json_2 = response_2.json()"
   ]
  },
  {
   "cell_type": "code",
   "execution_count": 4,
   "id": "9f74fc28-e009-46b1-b1c9-5134999bda16",
   "metadata": {},
   "outputs": [
    {
     "data": {
      "text/plain": [
       "{'candidates': [{'formatted_address': '713 S Washington Ave Ste 101, Minneapolis, MN 55415, United States',\n",
       "   'geometry': {'location': {'lat': 44.9771689, 'lng': -93.2579907},\n",
       "    'viewport': {'northeast': {'lat': 44.97862397989272,\n",
       "      'lng': -93.25665747010729},\n",
       "     'southwest': {'lat': 44.97592432010728, 'lng': -93.25935712989272}}},\n",
       "   'name': 'Starbucks'}],\n",
       " 'status': 'OK'}"
      ]
     },
     "execution_count": 7,
     "metadata": {},
     "output_type": "execute_result"
    }
   ],
   "source": [
    "#Let's take a look at json_2\n",
    "json_2"
   ]
  },
  {
   "cell_type": "code",
   "execution_count": null,
   "id": "a9ca71f2-9026-45ca-9f90-1975526922c4",
   "metadata": {},
   "outputs": [],
   "source": []
  }
 ],
 "metadata": {
  "kernelspec": {
   "display_name": "Python 3 (ipykernel)",
   "language": "python",
   "name": "python3"
  },
  "language_info": {
   "codemirror_mode": {
    "name": "ipython",
    "version": 3
   },
   "file_extension": ".py",
   "mimetype": "text/x-python",
   "name": "python",
   "nbconvert_exporter": "python",
   "pygments_lexer": "ipython3",
   "version": "3.9.7"
  }
 },
 "nbformat": 4,
 "nbformat_minor": 5
}
